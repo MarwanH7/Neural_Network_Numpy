{
 "cells": [
  {
   "cell_type": "markdown",
   "id": "2dd39428-8f18-4d9b-8e8b-250072b13783",
   "metadata": {
    "tags": []
   },
   "source": [
    "### In this notebook I implement a two layer neural netowrk from \"scratch\" using pandas and numpy and train it on the MNIST digit recognizer data set. \n",
    "This notebook aims to give a basic understanding of the underlying mathmatics that create these amazing technologies. The main components are \n",
    "\n",
    "Forward propagation (Input --> output)\n",
    "Back propagation (Loss function, error minimization, gradient descent, partial derivatives with respect to weights and biases) \n",
    "\n",
    "\n"
   ]
  },
  {
   "cell_type": "code",
   "execution_count": 190,
   "id": "048291aa-ee1d-4ff4-9d61-bd8b8e24e694",
   "metadata": {},
   "outputs": [],
   "source": [
    "# Libraries Imports\n",
    "\n",
    "import numpy as np\n",
    "import pandas as pd \n",
    "from matplotlib import pyplot as plt"
   ]
  },
  {
   "cell_type": "markdown",
   "id": "ba1572af-715b-48af-9e97-7f5a0654120c",
   "metadata": {
    "tags": []
   },
   "source": [
    "## Importing Data "
   ]
  },
  {
   "cell_type": "code",
   "execution_count": 191,
   "id": "f1313f56-1e31-4908-8123-603fa2824205",
   "metadata": {},
   "outputs": [],
   "source": [
    "# Import data \n",
    "data = pd.read_csv('train.csv')"
   ]
  },
  {
   "cell_type": "code",
   "execution_count": 192,
   "id": "0ab0736e-68be-4c54-bae3-c1b01ef6dc28",
   "metadata": {},
   "outputs": [
    {
     "data": {
      "text/html": [
       "<div>\n",
       "<style scoped>\n",
       "    .dataframe tbody tr th:only-of-type {\n",
       "        vertical-align: middle;\n",
       "    }\n",
       "\n",
       "    .dataframe tbody tr th {\n",
       "        vertical-align: top;\n",
       "    }\n",
       "\n",
       "    .dataframe thead th {\n",
       "        text-align: right;\n",
       "    }\n",
       "</style>\n",
       "<table border=\"1\" class=\"dataframe\">\n",
       "  <thead>\n",
       "    <tr style=\"text-align: right;\">\n",
       "      <th></th>\n",
       "      <th>label</th>\n",
       "      <th>pixel0</th>\n",
       "      <th>pixel1</th>\n",
       "      <th>pixel2</th>\n",
       "      <th>pixel3</th>\n",
       "      <th>pixel4</th>\n",
       "      <th>pixel5</th>\n",
       "      <th>pixel6</th>\n",
       "      <th>pixel7</th>\n",
       "      <th>pixel8</th>\n",
       "      <th>...</th>\n",
       "      <th>pixel774</th>\n",
       "      <th>pixel775</th>\n",
       "      <th>pixel776</th>\n",
       "      <th>pixel777</th>\n",
       "      <th>pixel778</th>\n",
       "      <th>pixel779</th>\n",
       "      <th>pixel780</th>\n",
       "      <th>pixel781</th>\n",
       "      <th>pixel782</th>\n",
       "      <th>pixel783</th>\n",
       "    </tr>\n",
       "  </thead>\n",
       "  <tbody>\n",
       "    <tr>\n",
       "      <th>0</th>\n",
       "      <td>1</td>\n",
       "      <td>0</td>\n",
       "      <td>0</td>\n",
       "      <td>0</td>\n",
       "      <td>0</td>\n",
       "      <td>0</td>\n",
       "      <td>0</td>\n",
       "      <td>0</td>\n",
       "      <td>0</td>\n",
       "      <td>0</td>\n",
       "      <td>...</td>\n",
       "      <td>0</td>\n",
       "      <td>0</td>\n",
       "      <td>0</td>\n",
       "      <td>0</td>\n",
       "      <td>0</td>\n",
       "      <td>0</td>\n",
       "      <td>0</td>\n",
       "      <td>0</td>\n",
       "      <td>0</td>\n",
       "      <td>0</td>\n",
       "    </tr>\n",
       "    <tr>\n",
       "      <th>1</th>\n",
       "      <td>0</td>\n",
       "      <td>0</td>\n",
       "      <td>0</td>\n",
       "      <td>0</td>\n",
       "      <td>0</td>\n",
       "      <td>0</td>\n",
       "      <td>0</td>\n",
       "      <td>0</td>\n",
       "      <td>0</td>\n",
       "      <td>0</td>\n",
       "      <td>...</td>\n",
       "      <td>0</td>\n",
       "      <td>0</td>\n",
       "      <td>0</td>\n",
       "      <td>0</td>\n",
       "      <td>0</td>\n",
       "      <td>0</td>\n",
       "      <td>0</td>\n",
       "      <td>0</td>\n",
       "      <td>0</td>\n",
       "      <td>0</td>\n",
       "    </tr>\n",
       "    <tr>\n",
       "      <th>2</th>\n",
       "      <td>1</td>\n",
       "      <td>0</td>\n",
       "      <td>0</td>\n",
       "      <td>0</td>\n",
       "      <td>0</td>\n",
       "      <td>0</td>\n",
       "      <td>0</td>\n",
       "      <td>0</td>\n",
       "      <td>0</td>\n",
       "      <td>0</td>\n",
       "      <td>...</td>\n",
       "      <td>0</td>\n",
       "      <td>0</td>\n",
       "      <td>0</td>\n",
       "      <td>0</td>\n",
       "      <td>0</td>\n",
       "      <td>0</td>\n",
       "      <td>0</td>\n",
       "      <td>0</td>\n",
       "      <td>0</td>\n",
       "      <td>0</td>\n",
       "    </tr>\n",
       "    <tr>\n",
       "      <th>3</th>\n",
       "      <td>4</td>\n",
       "      <td>0</td>\n",
       "      <td>0</td>\n",
       "      <td>0</td>\n",
       "      <td>0</td>\n",
       "      <td>0</td>\n",
       "      <td>0</td>\n",
       "      <td>0</td>\n",
       "      <td>0</td>\n",
       "      <td>0</td>\n",
       "      <td>...</td>\n",
       "      <td>0</td>\n",
       "      <td>0</td>\n",
       "      <td>0</td>\n",
       "      <td>0</td>\n",
       "      <td>0</td>\n",
       "      <td>0</td>\n",
       "      <td>0</td>\n",
       "      <td>0</td>\n",
       "      <td>0</td>\n",
       "      <td>0</td>\n",
       "    </tr>\n",
       "    <tr>\n",
       "      <th>4</th>\n",
       "      <td>0</td>\n",
       "      <td>0</td>\n",
       "      <td>0</td>\n",
       "      <td>0</td>\n",
       "      <td>0</td>\n",
       "      <td>0</td>\n",
       "      <td>0</td>\n",
       "      <td>0</td>\n",
       "      <td>0</td>\n",
       "      <td>0</td>\n",
       "      <td>...</td>\n",
       "      <td>0</td>\n",
       "      <td>0</td>\n",
       "      <td>0</td>\n",
       "      <td>0</td>\n",
       "      <td>0</td>\n",
       "      <td>0</td>\n",
       "      <td>0</td>\n",
       "      <td>0</td>\n",
       "      <td>0</td>\n",
       "      <td>0</td>\n",
       "    </tr>\n",
       "  </tbody>\n",
       "</table>\n",
       "<p>5 rows × 785 columns</p>\n",
       "</div>"
      ],
      "text/plain": [
       "   label  pixel0  pixel1  pixel2  pixel3  pixel4  pixel5  pixel6  pixel7  \\\n",
       "0      1       0       0       0       0       0       0       0       0   \n",
       "1      0       0       0       0       0       0       0       0       0   \n",
       "2      1       0       0       0       0       0       0       0       0   \n",
       "3      4       0       0       0       0       0       0       0       0   \n",
       "4      0       0       0       0       0       0       0       0       0   \n",
       "\n",
       "   pixel8  ...  pixel774  pixel775  pixel776  pixel777  pixel778  pixel779  \\\n",
       "0       0  ...         0         0         0         0         0         0   \n",
       "1       0  ...         0         0         0         0         0         0   \n",
       "2       0  ...         0         0         0         0         0         0   \n",
       "3       0  ...         0         0         0         0         0         0   \n",
       "4       0  ...         0         0         0         0         0         0   \n",
       "\n",
       "   pixel780  pixel781  pixel782  pixel783  \n",
       "0         0         0         0         0  \n",
       "1         0         0         0         0  \n",
       "2         0         0         0         0  \n",
       "3         0         0         0         0  \n",
       "4         0         0         0         0  \n",
       "\n",
       "[5 rows x 785 columns]"
      ]
     },
     "execution_count": 192,
     "metadata": {},
     "output_type": "execute_result"
    }
   ],
   "source": [
    "data.head(5)"
   ]
  },
  {
   "cell_type": "code",
   "execution_count": 193,
   "id": "0dec599b-d71f-4523-8fd6-7ef0d6c4926d",
   "metadata": {},
   "outputs": [
    {
     "data": {
      "text/plain": [
       "(42000, 785)"
      ]
     },
     "execution_count": 193,
     "metadata": {},
     "output_type": "execute_result"
    }
   ],
   "source": [
    "data.shape"
   ]
  },
  {
   "cell_type": "code",
   "execution_count": 194,
   "id": "21fdf575-192c-43a4-a030-0e1126995a95",
   "metadata": {},
   "outputs": [],
   "source": [
    "# Visulizing the pixels and image"
   ]
  },
  {
   "cell_type": "markdown",
   "id": "a3d180c1-e713-444a-b201-d3d2181c5b57",
   "metadata": {
    "tags": []
   },
   "source": [
    "## Data Preprocessing "
   ]
  },
  {
   "cell_type": "code",
   "execution_count": 195,
   "id": "25979639-b647-4cde-8d56-7434775563c2",
   "metadata": {},
   "outputs": [],
   "source": [
    "# Changing Dataframe into a numpy array in order to perform all the matrix operations \n",
    "data = np.array(data)"
   ]
  },
  {
   "cell_type": "code",
   "execution_count": 196,
   "id": "19e6f3ad-e012-4cc2-b4fb-7f3846003c11",
   "metadata": {},
   "outputs": [],
   "source": [
    "# Getting dimensions \n",
    "m,n = data.shape"
   ]
  },
  {
   "cell_type": "code",
   "execution_count": 197,
   "id": "dc2260ae-9630-4a37-95f2-ebb33402d187",
   "metadata": {},
   "outputs": [
    {
     "data": {
      "text/plain": [
       "42000"
      ]
     },
     "execution_count": 197,
     "metadata": {},
     "output_type": "execute_result"
    }
   ],
   "source": [
    "# m is the numbers of rows or images we have in this dataset \n",
    "m"
   ]
  },
  {
   "cell_type": "code",
   "execution_count": 198,
   "id": "a026f323-5132-48d0-88f1-d3120370f451",
   "metadata": {},
   "outputs": [
    {
     "data": {
      "text/plain": [
       "785"
      ]
     },
     "execution_count": 198,
     "metadata": {},
     "output_type": "execute_result"
    }
   ],
   "source": [
    "# n is the number columns (features) in this case pixels + 1 because of the index column (28x28) 784 + 1 \n",
    "n"
   ]
  },
  {
   "cell_type": "code",
   "execution_count": 199,
   "id": "575cfb91-12a5-44e5-a025-b41622e457f2",
   "metadata": {},
   "outputs": [],
   "source": [
    "# Splitting the data into training data and testing data \n",
    "\n",
    "#Test data \n",
    "data_test = data[0:1000]"
   ]
  },
  {
   "cell_type": "code",
   "execution_count": 200,
   "id": "816eebf3-bcc5-4f94-bdc1-86e45fb04cd6",
   "metadata": {},
   "outputs": [
    {
     "data": {
      "text/plain": [
       "(785, 1000)"
      ]
     },
     "execution_count": 200,
     "metadata": {},
     "output_type": "execute_result"
    }
   ],
   "source": [
    "#Transposing the data, essentially making each column an image with the rows being each pixel for that picture. \n",
    "data_test = data_test.T\n",
    "data_test.shape"
   ]
  },
  {
   "cell_type": "code",
   "execution_count": 201,
   "id": "938ee80b-6227-48f7-bc58-12c2a051614c",
   "metadata": {},
   "outputs": [],
   "source": [
    "#Initiating x and y test data "
   ]
  },
  {
   "cell_type": "code",
   "execution_count": 202,
   "id": "e8d06475-f167-42d3-9ba1-454908cc0cb2",
   "metadata": {},
   "outputs": [
    {
     "data": {
      "text/plain": [
       "(1000,)"
      ]
     },
     "execution_count": 202,
     "metadata": {},
     "output_type": "execute_result"
    }
   ],
   "source": [
    "# Ytest \n",
    "Y_test = data_test[0]\n",
    "Y_test.shape"
   ]
  },
  {
   "cell_type": "code",
   "execution_count": 203,
   "id": "4f286e98-91e1-4859-b3d2-54778b603b27",
   "metadata": {},
   "outputs": [
    {
     "data": {
      "text/plain": [
       "array([1, 0, 1, 4, 0, 0, 7, 3, 5, 3, 8, 9, 1, 3, 3, 1, 2, 0, 7, 5, 8, 6,\n",
       "       2, 0, 2, 3, 6, 9, 9, 7, 8, 9, 4, 9, 2, 1, 3, 1, 1, 4, 9, 1, 4, 4,\n",
       "       2, 6, 3, 7, 7, 4, 7, 5, 1, 9, 0, 2, 2, 3, 9, 1, 1, 1, 5, 0, 6, 3,\n",
       "       4, 8, 1, 0, 3, 9, 6, 2, 6, 4, 7, 1, 4, 1, 5, 4, 8, 9, 2, 9, 9, 8,\n",
       "       9, 6, 3, 6, 4, 6, 2, 9, 1, 2, 0, 5, 9, 2, 7, 7, 2, 8, 8, 5, 0, 6,\n",
       "       0, 0, 2, 9, 0, 4, 7, 7, 1, 5, 7, 9, 4, 6, 1, 5, 7, 6, 5, 0, 4, 8,\n",
       "       7, 6, 1, 8, 7, 3, 7, 3, 1, 0, 3, 4, 5, 4, 0, 5, 4, 0, 3, 5, 1, 0,\n",
       "       8, 3, 7, 0, 9, 6, 6, 9, 5, 4, 6, 9, 3, 5, 4, 2, 4, 8, 7, 7, 5, 8,\n",
       "       8, 8, 2, 6, 9, 3, 1, 0, 4, 1, 5, 9, 0, 6, 2, 1, 3, 0, 6, 0, 0, 8,\n",
       "       3, 2, 0, 0, 6, 0, 0, 4, 7, 2, 7, 1, 9, 9, 3, 9, 8, 4, 6, 6, 5, 3,\n",
       "       8, 1, 8, 7, 1, 3, 7, 6, 3, 6, 3, 6, 3, 2, 3, 2, 2, 7, 9, 2, 3, 2,\n",
       "       7, 5, 5, 8, 8, 2, 0, 1, 4, 0, 6, 3, 7, 1, 1, 1, 4, 7, 0, 2, 9, 2,\n",
       "       0, 5, 6, 0, 8, 9, 6, 2, 0, 0, 7, 2, 0, 4, 2, 0, 9, 1, 6, 9, 3, 0,\n",
       "       0, 2, 0, 6, 8, 4, 0, 7, 2, 1, 9, 5, 2, 4, 8, 5, 2, 9, 7, 9, 2, 9,\n",
       "       7, 4, 9, 3, 2, 7, 3, 6, 3, 6, 8, 8, 3, 7, 0, 9, 2, 7, 9, 0, 5, 4,\n",
       "       5, 8, 4, 3, 3, 1, 7, 8, 9, 7, 6, 2, 1, 7, 0, 5, 6, 5, 2, 9, 5, 4,\n",
       "       6, 2, 2, 2, 9, 0, 7, 7, 2, 2, 6, 3, 4, 2, 0, 5, 9, 6, 2, 1, 9, 0,\n",
       "       6, 0, 4, 8, 4, 3, 1, 5, 4, 2, 9, 5, 7, 3, 1, 5, 4, 5, 3, 7, 3, 8,\n",
       "       6, 2, 4, 6, 1, 1, 4, 0, 0, 5, 8, 6, 7, 4, 2, 8, 0, 2, 5, 4, 8, 3,\n",
       "       0, 6, 4, 8, 6, 4, 1, 8, 1, 5, 4, 9, 4, 3, 2, 0, 5, 0, 7, 9, 2, 9,\n",
       "       8, 9, 6, 5, 2, 4, 4, 6, 4, 8, 4, 1, 7, 5, 8, 9, 5, 9, 3, 2, 5, 8,\n",
       "       2, 2, 7, 2, 8, 4, 1, 9, 3, 6, 0, 2, 2, 9, 1, 2, 7, 2, 1, 3, 4, 9,\n",
       "       1, 8, 0, 2, 2, 3, 4, 1, 3, 7, 4, 1, 4, 1, 5, 9, 6, 9, 0, 5, 7, 6,\n",
       "       8, 2, 0, 7, 3, 5, 8, 2, 8, 2, 4, 8, 5, 8, 9, 7, 1, 2, 4, 5, 5, 1,\n",
       "       8, 1, 4, 4, 6, 5, 8, 9, 2, 3, 0, 5, 1, 4, 0, 5, 1, 2, 9, 2, 4, 1,\n",
       "       6, 8, 0, 4, 9, 0, 0, 5, 9, 2, 3, 5, 9, 4, 4, 3, 9, 2, 3, 5, 6, 5,\n",
       "       2, 7, 2, 4, 2, 4, 7, 2, 5, 3, 7, 6, 1, 0, 7, 5, 4, 5, 1, 6, 9, 7,\n",
       "       1, 6, 3, 3, 1, 2, 2, 0, 5, 0, 6, 8, 3, 6, 7, 7, 3, 8, 1, 7, 9, 3,\n",
       "       9, 2, 8, 3, 7, 4, 1, 2, 3, 6, 5, 0, 1, 8, 6, 9, 2, 1, 6, 0, 2, 8,\n",
       "       0, 8, 8, 9, 1, 2, 2, 1, 4, 8, 1, 4, 4, 5, 1, 8, 7, 7, 9, 7, 0, 6,\n",
       "       9, 4, 5, 6, 2, 5, 7, 4, 7, 2, 3, 0, 8, 4, 8, 0, 0, 9, 7, 7, 9, 8,\n",
       "       2, 1, 6, 5, 5, 1, 1, 9, 7, 7, 8, 6, 4, 7, 5, 3, 1, 6, 4, 5, 7, 4,\n",
       "       1, 8, 3, 5, 1, 7, 1, 1, 8, 6, 4, 3, 8, 3, 1, 2, 8, 9, 0, 9, 1, 2,\n",
       "       3, 3, 0, 3, 0, 2, 0, 3, 3, 8, 3, 5, 7, 0, 5, 9, 0, 5, 9, 1, 5, 1,\n",
       "       1, 2, 6, 5, 5, 4, 5, 1, 6, 0, 2, 2, 8, 0, 7, 1, 0, 8, 5, 6, 3, 2,\n",
       "       9, 4, 3, 6, 0, 3, 4, 1, 5, 9, 3, 0, 5, 0, 6, 2, 7, 6, 6, 6, 9, 6,\n",
       "       7, 8, 2, 0, 6, 0, 8, 9, 5, 3, 6, 7, 4, 3, 9, 7, 2, 0, 4, 7, 2, 2,\n",
       "       8, 2, 7, 0, 4, 0, 5, 2, 8, 7, 7, 9, 1, 4, 0, 1, 1, 2, 3, 6, 2, 0,\n",
       "       6, 6, 1, 9, 4, 5, 2, 7, 7, 8, 9, 5, 8, 3, 8, 5, 6, 2, 0, 9, 7, 1,\n",
       "       8, 2, 6, 9, 8, 4, 9, 4, 1, 3, 8, 4, 0, 7, 7, 3, 7, 6, 6, 8, 8, 2,\n",
       "       7, 0, 4, 3, 7, 7, 0, 8, 4, 7, 4, 0, 6, 9, 8, 6, 0, 1, 6, 4, 5, 2,\n",
       "       7, 3, 6, 2, 2, 9, 2, 7, 4, 8, 7, 2, 9, 5, 3, 4, 8, 0, 4, 4, 6, 5,\n",
       "       6, 1, 2, 2, 8, 4, 5, 7, 8, 0, 6, 8, 9, 1, 7, 7, 2, 6, 3, 9, 9, 1,\n",
       "       0, 4, 2, 5, 4, 4, 9, 2, 6, 7, 2, 8, 3, 3, 2, 7, 0, 4, 7, 0, 7, 7,\n",
       "       8, 1, 7, 3, 7, 8, 0, 1, 0, 2, 9, 7, 6, 2, 2, 6, 9, 0, 6, 8, 8, 9,\n",
       "       6, 3, 5, 0, 2, 2, 5, 9, 6, 4])"
      ]
     },
     "execution_count": 203,
     "metadata": {},
     "output_type": "execute_result"
    }
   ],
   "source": [
    "Y_test"
   ]
  },
  {
   "cell_type": "code",
   "execution_count": 204,
   "id": "1f2f1324-f672-41c3-b334-58ce2e24a0a9",
   "metadata": {},
   "outputs": [
    {
     "data": {
      "text/plain": [
       "(784, 1000)"
      ]
     },
     "execution_count": 204,
     "metadata": {},
     "output_type": "execute_result"
    }
   ],
   "source": [
    "# xtest \n",
    "X_test = data_test[1:]\n",
    "X_test.shape"
   ]
  },
  {
   "cell_type": "code",
   "execution_count": 205,
   "id": "55802dd4-f11f-4cee-9b89-360b2471e12f",
   "metadata": {},
   "outputs": [],
   "source": [
    "# Standaradize the pixel values by dividing by 255 (all pixels will be in a range now from 0 to 1) \n",
    "X_test = X_test/255"
   ]
  },
  {
   "cell_type": "code",
   "execution_count": 206,
   "id": "c25bc03f-398d-4ce2-b1dc-25296472cb10",
   "metadata": {},
   "outputs": [
    {
     "data": {
      "text/plain": [
       "(784, 1000)"
      ]
     },
     "execution_count": 206,
     "metadata": {},
     "output_type": "execute_result"
    }
   ],
   "source": [
    "X_test.shape"
   ]
  },
  {
   "cell_type": "code",
   "execution_count": 207,
   "id": "4101b5f3-15ee-4d15-a766-bf715421beb7",
   "metadata": {},
   "outputs": [],
   "source": [
    "#X_test[1:783, 1]"
   ]
  },
  {
   "cell_type": "code",
   "execution_count": 208,
   "id": "ee4883c5-904b-4ac4-86ff-e5e8dc1d1ba7",
   "metadata": {},
   "outputs": [],
   "source": [
    "# Similarly same thing for training data \n",
    "data_train = data[1000:]"
   ]
  },
  {
   "cell_type": "code",
   "execution_count": 209,
   "id": "83086012-cc8e-4fd0-81cb-a3a8b8d9de9b",
   "metadata": {
    "jupyter": {
     "source_hidden": true
    },
    "tags": []
   },
   "outputs": [
    {
     "data": {
      "text/plain": [
       "(785, 41000)"
      ]
     },
     "execution_count": 209,
     "metadata": {},
     "output_type": "execute_result"
    }
   ],
   "source": [
    "#Transposing the data\n",
    "data_train = data_train.T\n",
    "data_train.shape"
   ]
  },
  {
   "cell_type": "code",
   "execution_count": 210,
   "id": "d9179a13-0022-4128-90be-78ddcb3423c0",
   "metadata": {},
   "outputs": [
    {
     "data": {
      "text/plain": [
       "(41000,)"
      ]
     },
     "execution_count": 210,
     "metadata": {},
     "output_type": "execute_result"
    }
   ],
   "source": [
    "#Split \n",
    "# Ytest \n",
    "Y_train = data_train[0]\n",
    "Y_train.shape"
   ]
  },
  {
   "cell_type": "code",
   "execution_count": 211,
   "id": "dea005b6-1e9d-4aa7-83aa-c3b9902c3fa1",
   "metadata": {},
   "outputs": [
    {
     "data": {
      "text/plain": [
       "(784, 41000)"
      ]
     },
     "execution_count": 211,
     "metadata": {},
     "output_type": "execute_result"
    }
   ],
   "source": [
    "# xtest \n",
    "X_train = data_train[1:]\n",
    "X_train.shape"
   ]
  },
  {
   "cell_type": "code",
   "execution_count": 212,
   "id": "88623ef5-c189-4efd-af0b-1758ce59dc7b",
   "metadata": {},
   "outputs": [],
   "source": [
    "# Standaradize the pixel values by dividing by 255 (all pixels will be in a range now from 0 to 1) \n",
    "X_train = X_train/255"
   ]
  },
  {
   "cell_type": "code",
   "execution_count": 213,
   "id": "1f92d7d6-f877-42aa-9dd2-138262e3dec6",
   "metadata": {},
   "outputs": [],
   "source": [
    "#X_train[1:783, 1]"
   ]
  },
  {
   "cell_type": "markdown",
   "id": "50886f39-0537-4576-86db-254ebd523b59",
   "metadata": {
    "tags": []
   },
   "source": [
    "## Defining functions for neural networks components: \n",
    "    \n",
    "* Weights & Biases initilization \n",
    "* Forward propagation \n",
    "* Bakcward propagation "
   ]
  },
  {
   "cell_type": "code",
   "execution_count": 214,
   "id": "33f1b30d-c815-44a5-bfc6-f03d1e8f0e82",
   "metadata": {},
   "outputs": [],
   "source": [
    "## The process for a neural network is initialize parameters,forward propagation, "
   ]
  },
  {
   "cell_type": "code",
   "execution_count": 215,
   "id": "880c0510-bb9c-4360-94ad-1e4ea84eb4ad",
   "metadata": {},
   "outputs": [],
   "source": [
    "## initialize parameters weight and biases \n",
    "def initial_parameters():\n",
    "    w1 = np.random.rand(10,784) * np.sqrt(1/784)\n",
    "    w2 = np.random.rand(10,10) * np.sqrt(1/10)\n",
    "    b1 = np.random.rand(10,1) * np.sqrt(1/10)\n",
    "    b2 = np.random.rand(10,1) * np.sqrt(1/10)\n",
    "    return w1, w2, b1, b2"
   ]
  },
  {
   "cell_type": "code",
   "execution_count": 261,
   "id": "0ff81733-57be-4989-bf63-fc2462d6fb83",
   "metadata": {},
   "outputs": [],
   "source": [
    "## Forward propagation \n",
    "\n",
    "# Define activiation functions for layer 1 and 2  \n",
    "# I use the maximum function for this, and use 0 and z as inputs, the function takes in input z and returns either 0 if the value is smaller than 0 or z value if greater than zero\n",
    "\n",
    "\n",
    "#Layer 1 Relu\n",
    "def Relu_activation(z):\n",
    "    return np.maximum(z,0)\n",
    "\n",
    "\n",
    "# Derivative Of Relu (slope is 1 for positive values) so derviative of that is just 1, and slope for flat section is just zero \n",
    "\n",
    "def D_Relu(z):\n",
    "    return z > 0 \n",
    "\n",
    "#Layer 2 Softmax since its a classification problem, so want probabilites for each class. exponential of a particular class / sum of exponential of each class \n",
    "def softmax_stable(x):\n",
    "    return(np.exp(x - np.max(x)) / np.exp(x - np.max(x)).sum())\n",
    "\n",
    "\n",
    "# Forward Propagation \n",
    "def forward_propagation(w1, w2, b1, b2, x): \n",
    "    z1 = w1.dot(x) + b1 \n",
    "    a1 = Relu_activation(z1)\n",
    "    z2 = w2.dot(a1) + b2\n",
    "    a2 = softmax_stable(z2)\n",
    "    return z1, a1, z2, a2\n",
    "\n",
    "\n",
    "# Back propagation \n",
    "\n",
    "# First have to one hot incode my y values 0-9 \n",
    "\n",
    "# This function does two things \n",
    "# 1. creates a matrix of 0's with the Y dimensions Y.size is m (columns) and Y.max()+1 are the 10 possible outputs. To give an array with the shape (1000,10)\n",
    "# 2. It indexes through one hot y using arrays \n",
    "# This allows it to for each row go to the column specified by the label in y and set it to one \n",
    "# Final step is to transpose the one hot incoded y so that each column is an example not each row \n",
    "\n",
    "def one_hot(Y):\n",
    "    one_hot_y = np.zeros((Y.size, Y.max()+1))\n",
    "    one_hot_y[np.arange(Y.size), Y] = 1\n",
    "    one_hot_y = one_hot_y.T\n",
    "    return one_hot_y\n",
    "\n",
    "# Second we have to define the backpropagation derivatives. \n",
    "# The aim of back propagation is to find out the rate of change of the loss function (ΔLoss) with respect to the rate of change of weights and biases from each previous layer\n",
    "# and find the most optimal weights and biases values that create the smallest loss using gradient decent. Learning rate is a tunning paramter that decides the step size at each \n",
    "# iteration while moving towards min of the loss function \n",
    "\n",
    "\n",
    "def back_propagation(z1,a1,z2,a2,w2,x,Y):\n",
    "    m = Y.size\n",
    "    one_hot_y = one_hot(Y) #10,m \n",
    "    dz2 = a2 - one_hot_y #10,10\n",
    "    dw2 = 1/m * dz2.dot(a1.T)\n",
    "    db2 = 1/m * np.sum(dz2) \n",
    "    dz1 = w2.T.dot(dz2) * D_Relu(z1)\n",
    "    \n",
    "    dw1 = 1/m * dz1.dot(x.T)\n",
    "    db1 = 1/m * np.sum(dz1) \n",
    "    \n",
    "    return dw1, dw2, db1, db2\n",
    "\n",
    "\n",
    "# Updating the paramters function \n",
    "\n",
    "def update_params(w1, b1, w2, b2, dw1, db1, dw2, db2, alpha):\n",
    "    w1 = w1 - alpha * dw1\n",
    "    b1 = b1 - alpha * db1    \n",
    "    w2 = w2 - alpha * dw2  \n",
    "    b2 = b2 - alpha * db2    \n",
    "    return w1, b1, w2, b2\n"
   ]
  },
  {
   "cell_type": "markdown",
   "id": "b48d7710-2912-4932-94ab-cb45b5503443",
   "metadata": {
    "tags": []
   },
   "source": [
    "### Gradient Decent"
   ]
  },
  {
   "cell_type": "code",
   "execution_count": 273,
   "id": "7413ea60-817c-452a-bd75-1a355c8fe839",
   "metadata": {},
   "outputs": [],
   "source": [
    "# Gradient decent to optimize the loss \n",
    "\n",
    "\"\"\" This part is where I put all the functions I defined earlier together, the flow is as follows: \n",
    "\n",
    "* initialize paramters \n",
    "* loop for a specific number of iterations, in the loop \n",
    "    * forward propagate \n",
    "    * back propagate\n",
    "    * update paramters\n",
    "\"\"\"\n",
    "\n",
    "# Get prediction function \n",
    "def get_predictions(a2):\n",
    "    return np.argmax(a2, 0)\n",
    "\n",
    "# Accuracy function \n",
    "def get_accuracy(predictions, Y):\n",
    "    print(predictions, Y)\n",
    "    return np.sum(predictions == Y) / Y.size\n",
    "    \n",
    "\n",
    "def gradient_decent(x,Y,iterations,alpha):\n",
    "    #Initial Paramters\n",
    "    w1, w2, b1, b2 = initial_parameters()\n",
    "    \n",
    "    # Loop for a specific number of iterations \n",
    "    for i in range(iterations):\n",
    "        z1, a1, z2, a2 = forward_propagation(w1, w2, b1, b2, x)\n",
    "        dw1, dw2, db1, db2 = back_propagation(z1,a1,z2,a2,w2,x,Y)\n",
    "        w1, b1, w2, b2 = update_params(w1, b1, w2, b2, dw1, db1, dw2, db2, alpha)\n",
    "        \n",
    "        if i % 50 == 0:\n",
    "            print(\"iteration:\" , i) \n",
    "            predictions = get_predictions(a2)\n",
    "            print(get_accuracy(predictions,Y))\n",
    "    return w1, b1, w2, b2"
   ]
  },
  {
   "cell_type": "code",
   "execution_count": null,
   "id": "9e3e58ab-91b2-4e5d-811d-4e02e7c27e7d",
   "metadata": {},
   "outputs": [],
   "source": [
    "w1, b1, w2, b2 = gradient_decent(X_train, Y_train, 500, 0.3)"
   ]
  },
  {
   "cell_type": "code",
   "execution_count": 234,
   "id": "642f1393-015c-489f-8d9b-987ca6fb3aff",
   "metadata": {},
   "outputs": [],
   "source": []
  },
  {
   "cell_type": "code",
   "execution_count": null,
   "id": "e9743d44-c048-488c-981b-4e732639d73c",
   "metadata": {},
   "outputs": [],
   "source": []
  },
  {
   "cell_type": "code",
   "execution_count": null,
   "id": "73a05581-db8d-4c39-bbb3-760b30792703",
   "metadata": {},
   "outputs": [],
   "source": []
  },
  {
   "cell_type": "code",
   "execution_count": null,
   "id": "878b323c-e5ee-4d30-9146-c14e98467605",
   "metadata": {},
   "outputs": [],
   "source": []
  },
  {
   "cell_type": "code",
   "execution_count": null,
   "id": "083597a4-2f6e-4c23-af13-03fb23ec878f",
   "metadata": {},
   "outputs": [],
   "source": []
  },
  {
   "cell_type": "code",
   "execution_count": null,
   "id": "ea84decd-3dff-40ed-9543-7d531c27e597",
   "metadata": {},
   "outputs": [],
   "source": []
  },
  {
   "cell_type": "code",
   "execution_count": null,
   "id": "598d65e7-c43e-40ed-bdc2-b8edceff5310",
   "metadata": {},
   "outputs": [],
   "source": []
  },
  {
   "cell_type": "code",
   "execution_count": null,
   "id": "a1081b39-0bf0-47bc-a974-61ee7d3b70be",
   "metadata": {},
   "outputs": [],
   "source": []
  }
 ],
 "metadata": {
  "kernelspec": {
   "display_name": "Python 3 (ipykernel)",
   "language": "python",
   "name": "python3"
  },
  "language_info": {
   "codemirror_mode": {
    "name": "ipython",
    "version": 3
   },
   "file_extension": ".py",
   "mimetype": "text/x-python",
   "name": "python",
   "nbconvert_exporter": "python",
   "pygments_lexer": "ipython3",
   "version": "3.10.6"
  }
 },
 "nbformat": 4,
 "nbformat_minor": 5
}
